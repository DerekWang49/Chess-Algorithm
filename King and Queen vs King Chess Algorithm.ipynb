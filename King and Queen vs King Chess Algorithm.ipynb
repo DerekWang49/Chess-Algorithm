{
 "cells": [
  {
   "cell_type": "code",
   "execution_count": 88,
   "id": "4a6c9842",
   "metadata": {},
   "outputs": [
    {
     "name": "stdout",
     "output_type": "stream",
     "text": [
      "  1　2　3　4　5　6　7　8　\n",
      "1|　|　|　|　|　|　|　|　\n",
      "2|　|　|　|♚|　|　|　|　\n",
      "3|　|　|　|　|　|♕|　|　\n",
      "4|　|　|　|　|　|　|　|　\n",
      "5|　|　|　|　|　|　|　|　\n",
      "6|　|　|　|　|　|　|　|　\n",
      "7|　|　|　|♔|　|　|　|　\n",
      "8|　|　|　|　|　|　|　|　\n",
      "\n"
     ]
    },
    {
     "data": {
      "text/plain": [
       "(Any[[7, 4], [3, 6], [2, 4]], Any[1, 56], 1)"
      ]
     },
     "execution_count": 88,
     "metadata": {},
     "output_type": "execute_result"
    }
   ],
   "source": [
    "\n",
    "\n",
    "q = zeros(64, 64, 64)\n",
    "q_counter = zeros(64, 64, 64)\n",
    "policy = fill(0, (64, 64, 64))\n",
    "# Check if the black king is in check\n",
    "# Returns true or false if black king is in check\n",
    "function in_check(position)\n",
    "    # Position is a set of three lists: 1 - white king, 2 - white queen, 3 - black king\n",
    "    \n",
    "    if abs(position[3][1] - position[1][1]) <= 1 && abs(position[3][2] - position[1][2]) <= 1\n",
    "        return true\n",
    "    end  \n",
    "    if position[3][1] == position[2][1]\n",
    "        return true\n",
    "    elseif position[3][2] == position[2][2]\n",
    "        return true  \n",
    "    elseif abs(position[3][1] - position[2][1]) == abs(position[3][2] - position[2][2])\n",
    "        return true\n",
    "    end\n",
    "    return false\n",
    "end\n",
    "\n",
    "function display_board(position)\n",
    "    board = Array{Char}(undef, 8 , 8)\n",
    "    fill!(board, '\\u3000')\n",
    "    board[position[1][1], position[1][2]] = '\\u2654'\n",
    "    board[position[2][1], position[2][2]] = '\\u2655'\n",
    "    board[position[3][1], position[3][2]] = '\\u265a'\n",
    "    output = \"  \"\n",
    "    for h in 1:8\n",
    "        output *= string(h) * string('\\u3000')\n",
    "    end\n",
    "    output *= \"\\n\"\n",
    "    for i in 1:8\n",
    "        for j in 1:8\n",
    "            if j == 1\n",
    "                output *= string(i)\n",
    "            end\n",
    "            output *= \"|\"\n",
    "            output *= board[i, j]\n",
    "        end\n",
    "        output *= \"\\n\"\n",
    "    end\n",
    "    return output\n",
    "end\n",
    "\n",
    "# Simulate possible moves until 50 moves is reached or until checkmate/stalemate occurs\n",
    "function episode(policy, ϵ=0.05)\n",
    "    # Return result, which is either 0 (failure) or 1 (win)\n",
    "    # Also returns actions taken for each state\n",
    "    states = []\n",
    "    # State: [White king, white queen, black king]\n",
    "    new_state = [[rand(1:8), rand(1:8)], [rand(1:8), rand(1:8)], [rand(1:8), rand(1:8)]]\n",
    "    while new_state[1] == new_state[3] || new_state[2] == new_state[3] || in_check(new_state)\n",
    "        new_state = [[rand(1:8), rand(1:8)], [rand(1:8), rand(1:8)], [rand(1:8), rand(1:8)]]\n",
    "    end\n",
    "    println(display_board(new_state))\n",
    "    append!(states, new_state)\n",
    "    actions = []\n",
    "    # 1 = white king, 2 = white queen\n",
    "    append!(actions, [rand(1:2), rand(1:64)])\n",
    "    result = rand(0:1)\n",
    "    return states, actions, result\n",
    "end\n",
    "\n",
    "s, a, r = episode(policy)\n",
    "# println(s)\n",
    "# println(a)\n",
    "# println(r)\n",
    "# print(display_board([[6, 4], [2, 1], [8, 7]]))\n",
    "\n",
    "# function multiple()\n",
    "#     for in 1:10e6\n",
    "#         # Call function, set state, actions, result = function\n",
    "#         # Loop through all states and actions\n",
    "#             # Update state counter\n",
    "#             # Update policy\n",
    "#     end\n",
    "# end"
   ]
  },
  {
   "cell_type": "code",
   "execution_count": null,
   "id": "fcb49a83",
   "metadata": {},
   "outputs": [],
   "source": []
  },
  {
   "cell_type": "code",
   "execution_count": null,
   "id": "ebad3324",
   "metadata": {},
   "outputs": [],
   "source": []
  },
  {
   "cell_type": "code",
   "execution_count": null,
   "id": "26847094",
   "metadata": {},
   "outputs": [],
   "source": []
  }
 ],
 "metadata": {
  "kernelspec": {
   "display_name": "Julia 1.9.3",
   "language": "julia",
   "name": "julia-1.9"
  },
  "language_info": {
   "file_extension": ".jl",
   "mimetype": "application/julia",
   "name": "julia",
   "version": "1.9.3"
  }
 },
 "nbformat": 4,
 "nbformat_minor": 5
}
