{
 "cells": [
  {
   "cell_type": "code",
   "execution_count": null,
   "id": "4a6c9842",
   "metadata": {},
   "outputs": [],
   "source": [
    "board = zeros(8, 8)\n",
    "display(board)\n",
    "\n",
    "states = zeros(64, 64, 64)\n",
    "states_counter = zeros(64, 64, 64)\n",
    "policy = fill(0, (64, 64, 64))\n",
    "\n",
    "# Simulate possible moves until 50 moves is reached or until checkmate/stalemate occurs\n",
    "function episode(policy)\n",
    "    # Return result, which is either 0 (failure) or 1 (win)\n",
    "    # Also returns actions taken for each state\n",
    "    state = []\n",
    "    # State: [White king, white queen, black king]\n",
    "    append!(state, [rand(1:64), rand(1:64), rand(1:64)])\n",
    "    actions = []\n",
    "    # 1 = white king, 2 = white queen\n",
    "    append!(actions, [rand(1:2), rand(1:64)])\n",
    "    result = rand(0:1)\n",
    "    return state, actions, result\n",
    "end\n",
    "\n",
    "s, a, r = episode(policy)\n",
    "println(s)\n",
    "println(a)\n",
    "println(r)\n",
    "\n",
    "# function multiple()\n",
    "#     for in 1:10e6\n",
    "#         # Call function, set state, actions, result = function\n",
    "#         # Loop through all states and actions\n",
    "#             # Update state counter\n",
    "#             # Update policy\n",
    "#     end\n",
    "# end"
   ]
  }
 ],
 "metadata": {
  "kernelspec": {
   "display_name": "Julia 1.9.3",
   "language": "julia",
   "name": "julia-1.9"
  },
  "language_info": {
   "file_extension": ".jl",
   "mimetype": "application/julia",
   "name": "julia",
   "version": "1.9.3"
  }
 },
 "nbformat": 4,
 "nbformat_minor": 5
}
