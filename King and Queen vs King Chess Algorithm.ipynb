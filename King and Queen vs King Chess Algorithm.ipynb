{
 "cells": [
  {
   "cell_type": "code",
   "execution_count": 32,
   "id": "4a6c9842",
   "metadata": {},
   "outputs": [
    {
     "data": {
      "text/plain": [
       "8×8 Matrix{Float64}:\n",
       " 0.0  0.0  0.0  0.0  0.0  0.0  0.0  0.0\n",
       " 0.0  0.0  0.0  0.0  0.0  0.0  0.0  0.0\n",
       " 0.0  0.0  0.0  0.0  0.0  0.0  0.0  0.0\n",
       " 0.0  0.0  0.0  0.0  0.0  0.0  0.0  0.0\n",
       " 0.0  0.0  0.0  0.0  0.0  0.0  0.0  0.0\n",
       " 0.0  0.0  0.0  0.0  0.0  0.0  0.0  0.0\n",
       " 0.0  0.0  0.0  0.0  0.0  0.0  0.0  0.0\n",
       " 0.0  0.0  0.0  0.0  0.0  0.0  0.0  0.0"
      ]
     },
     "metadata": {},
     "output_type": "display_data"
    },
    {
     "data": {
      "text/plain": [
       "8×8 Matrix{Float64}:\n",
       " 0.0  0.0  0.0  0.0  0.0  0.0  0.0  0.0\n",
       " 0.0  0.0  0.0  0.0  0.0  0.0  0.0  0.0\n",
       " 0.0  0.0  0.0  0.0  0.0  0.0  0.0  0.0\n",
       " 0.0  0.0  0.0  0.0  0.0  0.0  0.0  0.0\n",
       " 0.0  0.0  0.0  0.0  0.0  0.0  0.0  0.0\n",
       " 0.0  0.0  0.0  0.0  0.0  0.0  0.0  0.0\n",
       " 0.0  0.0  0.0  0.0  0.0  0.0  0.0  0.0\n",
       " 0.0  0.0  0.0  0.0  0.0  0.0  0.0  0.0"
      ]
     },
     "metadata": {},
     "output_type": "display_data"
    },
    {
     "name": "stdout",
     "output_type": "stream",
     "text": [
      "Any[[8, 4], [8, 4], [7, 7]]\n",
      "Any[2, 48]\n",
      "1\n",
      "true\n"
     ]
    }
   ],
   "source": [
    "board = zeros(8, 8)\n",
    "display(board)\n",
    "\n",
    "states = zeros(64, 64, 64)\n",
    "states_counter = zeros(64, 64, 64)\n",
    "policy = fill(0, (64, 64, 64))\n",
    "# Check if the black king is in check\n",
    "# Returns true or false if black king is in check\n",
    "function in_check(position)\n",
    "    # Position is a set of three lists: 1 - white king, 2 - white queen, 3 - black king\n",
    "    \n",
    "    if abs(position[3][1] - position[1][1]) <= 1 && abs(position[3][2] - position[1][2]) <= 1\n",
    "        return true\n",
    "    end  \n",
    "    if position[3][1] == position[2][1]\n",
    "        return true\n",
    "    elseif position[3][2] == position[2][2]\n",
    "        return true  \n",
    "    elseif abs(position[3][1] - position[2][1]) == abs(position[3][2] - position[2][2])\n",
    "        return true\n",
    "    end\n",
    "    return false\n",
    "end\n",
    "\n",
    "\n",
    "# Simulate possible moves until 50 moves is reached or until checkmate/stalemate occurs\n",
    "function episode(policy)\n",
    "    # Return result, which is either 0 (failure) or 1 (win)\n",
    "    # Also returns actions taken for each state\n",
    "    state = []\n",
    "    # State: [White king, white queen, black king]\n",
    "    new_state = [[rand(1:8), rand(1:8)], [rand(1:8), rand(1:8)], [rand(1:8), rand(1:8)]]\n",
    "    while new_state[1] == new_state[3] || new_state[2] == new_state[3] || in_check(new_state)\n",
    "        println(new_state)\n",
    "        new_state = [[rand(1:8), rand(1:8)], [rand(1:8), rand(1:8)], [rand(1:8), rand(1:8)]]\n",
    "        println(\"Reroll!\")\n",
    "    end\n",
    "    append!(state, new_state)\n",
    "    actions = []\n",
    "    # 1 = white king, 2 = white queen\n",
    "    append!(actions, [rand(1:2), rand(1:64)])\n",
    "    result = rand(0:1)\n",
    "    return state, actions, result\n",
    "end\n",
    "\n",
    "s, a, r = episode(policy)\n",
    "println(s)\n",
    "println(a)\n",
    "println(r)\n",
    "println(in_check([[6, 4], [2, 1], [8, 7]]))\n",
    "\n",
    "# function multiple()\n",
    "#     for in 1:10e6\n",
    "#         # Call function, set state, actions, result = function\n",
    "#         # Loop through all states and actions\n",
    "#             # Update state counter\n",
    "#             # Update policy\n",
    "#     end\n",
    "# end"
   ]
  },
  {
   "cell_type": "code",
   "execution_count": null,
   "id": "22361151",
   "metadata": {},
   "outputs": [],
   "source": []
  },
  {
   "cell_type": "code",
   "execution_count": null,
   "id": "3c8cebc2",
   "metadata": {},
   "outputs": [],
   "source": []
  },
  {
   "cell_type": "code",
   "execution_count": null,
   "id": "529b92d7",
   "metadata": {},
   "outputs": [],
   "source": []
  }
 ],
 "metadata": {
  "kernelspec": {
   "display_name": "Julia 1.9.3",
   "language": "julia",
   "name": "julia-1.9"
  },
  "language_info": {
   "file_extension": ".jl",
   "mimetype": "application/julia",
   "name": "julia",
   "version": "1.9.3"
  }
 },
 "nbformat": 4,
 "nbformat_minor": 5
}
